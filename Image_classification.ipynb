{
  "nbformat": 4,
  "nbformat_minor": 0,
  "metadata": {
    "colab": {
      "provenance": []
    },
    "kernelspec": {
      "name": "python3",
      "display_name": "Python 3"
    },
    "language_info": {
      "name": "python"
    }
  },
  "cells": [
    {
      "cell_type": "markdown",
      "source": [
        "# Import libraries"
      ],
      "metadata": {
        "id": "jeijwWG2rHcO"
      }
    },
    {
      "cell_type": "code",
      "source": [
        "from sklearn.model_selection import train_test_split\n",
        "from sklearn.preprocessing import LabelEncoder\n",
        "from sklearn.metrics import classification_report\n",
        "from tensorflow.keras.models import Sequential\n",
        "from tensorflow.keras.layers import (\n",
        "    InputLayer,\n",
        "    Flatten,\n",
        "    Dense,\n",
        "    Conv2D,\n",
        "    MaxPool2D,\n",
        "    Dropout,\n",
        ")\n",
        "from tensorflow.keras.optimizers import Adam\n",
        "import numpy as np\n",
        "import cv2\n",
        "import glob\n",
        "import matplotlib.pyplot as plt"
      ],
      "metadata": {
        "id": "M8ZxYEUHrdNm"
      },
      "execution_count": 3,
      "outputs": []
    },
    {
      "cell_type": "markdown",
      "source": [
        "# Load datasets & labelling\n"
      ],
      "metadata": {
        "id": "ZPCUsm2Mswog"
      }
    },
    {
      "cell_type": "code",
      "source": [
        "imagePaths = \"./Dataset/\"\n",
        "label_list = [\"Nangka\", \"Daun Sirih\"]\n",
        "data = []\n",
        "labels = []\n",
        "\n",
        "for label in label_list:\n",
        "    for imagePath in glob.glob(imagePaths + label + \"/*.jpg\"):\n",
        "        # print(imagePath)\n",
        "        image = cv2.imread(imagePath)\n",
        "        images = cv2.resize(image, (32, 32))\n",
        "        data.append(images)\n",
        "        labels.append(label)\n",
        "\n",
        "np.array(data).shape\n",
        "\n",
        "# ubah type data dari list menjadi array\n",
        "# ubah nilai dari tiap pixel menjadi range [0..1]\n",
        "for i in range(len(data)):\n",
        "    for j in range(len(data[i])):\n",
        "        for k in range(len(data[i][j])):\n",
        "            data[i][j][k] = data[i][j][k] / 255.0\n",
        "\n",
        "labels = np.array(labels)\n",
        "\n",
        "# ubah nilai dari labels menjadi binary\n",
        "# ubah nilai dari labels menjadi binary\n",
        "lb = LabelEncoder()\n",
        "labels = lb.fit_transform(labels)\n"
      ],
      "metadata": {
        "id": "qpwjUxWUs_hE"
      },
      "execution_count": 7,
      "outputs": []
    },
    {
      "cell_type": "markdown",
      "source": [
        "# Splitting Data"
      ],
      "metadata": {
        "id": "dsXyRP-3tow3"
      }
    },
    {
      "cell_type": "code",
      "source": [
        "test_portion = len(data)*30/100\n",
        "train_data = []\n",
        "train_labels = []\n",
        "test_data = []\n",
        "test_labels = []\n",
        "\n",
        "for i in range(len(data)):\n",
        "    if i > len(data) - test_portion/2-1:\n",
        "        test_data.append(data[i])\n",
        "        test_labels.append(labels[i])\n",
        "    elif i < test_portion/2:\n",
        "        test_data.append(data[i])\n",
        "        test_labels.append(labels[i])\n",
        "    else:\n",
        "        train_data.append(data[i])\n",
        "        train_labels.append(labels[i])\n",
        "\n",
        "x_train = np.array(train_data) / 255.0\n",
        "x_test = np.array(test_data) / 255.0\n",
        "y_train = np.array(train_labels)\n",
        "y_test = np.array(test_labels)\n",
        "\n",
        "print(\"Ukuran data train =\", x_train.shape)\n",
        "print(\"Ukuran data test =\", x_test.shape)"
      ],
      "metadata": {
        "id": "-UeYs3ZutrR0",
        "colab": {
          "base_uri": "https://localhost:8080/"
        },
        "outputId": "9602eee0-5897-4505-e5fd-1ff2bcf5669c"
      },
      "execution_count": 12,
      "outputs": [
        {
          "output_type": "stream",
          "name": "stdout",
          "text": [
            "Ukuran data train = (70, 32, 32, 3)\n",
            "Ukuran data test = (32, 32, 32, 3)\n"
          ]
        }
      ]
    },
    {
      "cell_type": "markdown",
      "source": [
        "# Architecturing CNN Model"
      ],
      "metadata": {
        "id": "8xb_KKHGtw_9"
      }
    },
    {
      "cell_type": "code",
      "source": [
        "model = Sequential()\n",
        "model.add(InputLayer(input_shape=(32, 32, 3)))\n",
        "model.add(Conv2D(filters=32, kernel_size=2, strides=1, padding=\"same\", activation=\"relu\"))\n",
        "model.add(MaxPool2D(pool_size=2, padding=\"same\"))\n",
        "model.add(Conv2D(filters=50, kernel_size=2, strides=1, padding=\"same\", activation=\"relu\"))\n",
        "model.add(MaxPool2D(pool_size=2, padding=\"same\"))\n",
        "model.add(Dropout(0.25))\n",
        "model.add(Flatten())\n",
        "model.add(Dense(512, activation=\"relu\"))\n",
        "model.add(Dropout(0.5))\n",
        "model.add(Dense(len(label_list), activation=\"softmax\"))\n",
        "model.summary()\n",
        "\n",
        "# tentukan hyperparameter\n",
        "lr = 0.001\n",
        "max_epochs = 100\n",
        "opt_funct = Adam(learning_rate=lr)\n",
        "\n",
        "# compile arsitektur yang telah dibuat\n",
        "model.compile(loss=\"sparse_categorical_crossentropy\", optimizer=opt_funct, metrics=[\"accuracy\"])"
      ],
      "metadata": {
        "id": "tNmG5nokt4NQ",
        "colab": {
          "base_uri": "https://localhost:8080/"
        },
        "outputId": "72409209-276b-495c-fa02-467a238b8aaa"
      },
      "execution_count": 9,
      "outputs": [
        {
          "output_type": "stream",
          "name": "stdout",
          "text": [
            "Model: \"sequential\"\n",
            "_________________________________________________________________\n",
            " Layer (type)                Output Shape              Param #   \n",
            "=================================================================\n",
            " conv2d (Conv2D)             (None, 32, 32, 32)        416       \n",
            "                                                                 \n",
            " max_pooling2d (MaxPooling2  (None, 16, 16, 32)        0         \n",
            " D)                                                              \n",
            "                                                                 \n",
            " conv2d_1 (Conv2D)           (None, 16, 16, 50)        6450      \n",
            "                                                                 \n",
            " max_pooling2d_1 (MaxPoolin  (None, 8, 8, 50)          0         \n",
            " g2D)                                                            \n",
            "                                                                 \n",
            " dropout (Dropout)           (None, 8, 8, 50)          0         \n",
            "                                                                 \n",
            " flatten (Flatten)           (None, 3200)              0         \n",
            "                                                                 \n",
            " dense (Dense)               (None, 512)               1638912   \n",
            "                                                                 \n",
            " dropout_1 (Dropout)         (None, 512)               0         \n",
            "                                                                 \n",
            " dense_1 (Dense)             (None, 2)                 1026      \n",
            "                                                                 \n",
            "=================================================================\n",
            "Total params: 1646804 (6.28 MB)\n",
            "Trainable params: 1646804 (6.28 MB)\n",
            "Non-trainable params: 0 (0.00 Byte)\n",
            "_________________________________________________________________\n"
          ]
        }
      ]
    },
    {
      "cell_type": "markdown",
      "source": [
        "# Model Training & Testing"
      ],
      "metadata": {
        "id": "1sVVzMGat_Co"
      }
    },
    {
      "cell_type": "code",
      "source": [
        "# Train model\n",
        "H = model.fit(x_train, y_train, validation_data=(x_test, y_test), epochs=max_epochs, batch_size=32)\n",
        "N = np.arange(0, max_epochs)\n",
        "plt.style.use(\"ggplot\")\n",
        "plt.figure()\n",
        "plt.plot(N, H.history[\"loss\"], label=\"train_loss\")\n",
        "plt.plot(N, H.history[\"val_loss\"], label=\"val_loss\")\n",
        "plt.plot(N, H.history[\"accuracy\"], label=\"train_acc\")\n",
        "plt.plot(N, H.history[\"val_accuracy\"], label=\"val_acc\")\n",
        "plt.xlabel(\"Epoch #\")\n",
        "plt.legend()\n",
        "plt.show()"
      ],
      "metadata": {
        "id": "CslMLimquDAM",
        "colab": {
          "base_uri": "https://localhost:8080/",
          "height": 1000
        },
        "outputId": "c2fb1302-3acd-47e7-a215-439e9d0d828b"
      },
      "execution_count": 13,
      "outputs": [
        {
          "output_type": "stream",
          "name": "stdout",
          "text": [
            "Epoch 1/100\n",
            "3/3 [==============================] - 0s 90ms/step - loss: 0.0751 - accuracy: 0.9714 - val_loss: 0.1324 - val_accuracy: 0.9688\n",
            "Epoch 2/100\n",
            "3/3 [==============================] - 0s 62ms/step - loss: 0.0895 - accuracy: 0.9571 - val_loss: 0.1252 - val_accuracy: 0.9688\n",
            "Epoch 3/100\n",
            "3/3 [==============================] - 0s 60ms/step - loss: 0.0828 - accuracy: 0.9429 - val_loss: 0.1262 - val_accuracy: 0.9688\n",
            "Epoch 4/100\n",
            "3/3 [==============================] - 0s 60ms/step - loss: 0.0737 - accuracy: 0.9714 - val_loss: 0.1273 - val_accuracy: 0.9688\n",
            "Epoch 5/100\n",
            "3/3 [==============================] - 0s 66ms/step - loss: 0.1062 - accuracy: 0.9571 - val_loss: 0.1321 - val_accuracy: 0.9688\n",
            "Epoch 6/100\n",
            "3/3 [==============================] - 0s 63ms/step - loss: 0.0757 - accuracy: 0.9714 - val_loss: 0.1368 - val_accuracy: 0.9688\n",
            "Epoch 7/100\n",
            "3/3 [==============================] - 0s 70ms/step - loss: 0.0728 - accuracy: 0.9571 - val_loss: 0.1302 - val_accuracy: 0.9688\n",
            "Epoch 8/100\n",
            "3/3 [==============================] - 0s 67ms/step - loss: 0.1051 - accuracy: 0.9429 - val_loss: 0.1359 - val_accuracy: 0.9688\n",
            "Epoch 9/100\n",
            "3/3 [==============================] - 0s 65ms/step - loss: 0.0841 - accuracy: 0.9714 - val_loss: 0.1451 - val_accuracy: 0.9688\n",
            "Epoch 10/100\n",
            "3/3 [==============================] - 0s 57ms/step - loss: 0.0626 - accuracy: 0.9714 - val_loss: 0.1386 - val_accuracy: 0.9688\n",
            "Epoch 11/100\n",
            "3/3 [==============================] - 0s 65ms/step - loss: 0.0746 - accuracy: 0.9857 - val_loss: 0.1278 - val_accuracy: 0.9688\n",
            "Epoch 12/100\n",
            "3/3 [==============================] - 0s 57ms/step - loss: 0.0918 - accuracy: 0.9571 - val_loss: 0.1311 - val_accuracy: 0.9688\n",
            "Epoch 13/100\n",
            "3/3 [==============================] - 0s 65ms/step - loss: 0.1110 - accuracy: 0.9571 - val_loss: 0.1499 - val_accuracy: 0.9375\n",
            "Epoch 14/100\n",
            "3/3 [==============================] - 0s 64ms/step - loss: 0.0830 - accuracy: 0.9714 - val_loss: 0.1493 - val_accuracy: 0.9375\n",
            "Epoch 15/100\n",
            "3/3 [==============================] - 0s 59ms/step - loss: 0.0887 - accuracy: 0.9714 - val_loss: 0.1372 - val_accuracy: 0.9375\n",
            "Epoch 16/100\n",
            "3/3 [==============================] - 0s 58ms/step - loss: 0.1009 - accuracy: 0.9429 - val_loss: 0.1269 - val_accuracy: 0.9688\n",
            "Epoch 17/100\n",
            "3/3 [==============================] - 0s 61ms/step - loss: 0.0890 - accuracy: 0.9571 - val_loss: 0.1417 - val_accuracy: 0.9375\n",
            "Epoch 18/100\n",
            "3/3 [==============================] - 0s 59ms/step - loss: 0.1029 - accuracy: 0.9571 - val_loss: 0.1381 - val_accuracy: 0.9375\n",
            "Epoch 19/100\n",
            "3/3 [==============================] - 0s 63ms/step - loss: 0.0889 - accuracy: 0.9714 - val_loss: 0.1314 - val_accuracy: 0.9688\n",
            "Epoch 20/100\n",
            "3/3 [==============================] - 0s 62ms/step - loss: 0.1004 - accuracy: 0.9571 - val_loss: 0.1453 - val_accuracy: 0.9375\n",
            "Epoch 21/100\n",
            "3/3 [==============================] - 0s 67ms/step - loss: 0.0829 - accuracy: 0.9571 - val_loss: 0.1488 - val_accuracy: 0.9375\n",
            "Epoch 22/100\n",
            "3/3 [==============================] - 0s 62ms/step - loss: 0.0782 - accuracy: 0.9571 - val_loss: 0.1480 - val_accuracy: 0.9375\n",
            "Epoch 23/100\n",
            "3/3 [==============================] - 0s 58ms/step - loss: 0.0704 - accuracy: 0.9714 - val_loss: 0.1468 - val_accuracy: 0.9688\n",
            "Epoch 24/100\n",
            "3/3 [==============================] - 0s 62ms/step - loss: 0.0484 - accuracy: 0.9857 - val_loss: 0.1489 - val_accuracy: 0.9688\n",
            "Epoch 25/100\n",
            "3/3 [==============================] - 0s 61ms/step - loss: 0.0583 - accuracy: 0.9714 - val_loss: 0.1563 - val_accuracy: 0.9375\n",
            "Epoch 26/100\n",
            "3/3 [==============================] - 0s 64ms/step - loss: 0.0744 - accuracy: 0.9714 - val_loss: 0.1690 - val_accuracy: 0.9375\n",
            "Epoch 27/100\n",
            "3/3 [==============================] - 0s 56ms/step - loss: 0.0605 - accuracy: 0.9714 - val_loss: 0.1596 - val_accuracy: 0.9375\n",
            "Epoch 28/100\n",
            "3/3 [==============================] - 0s 57ms/step - loss: 0.0381 - accuracy: 0.9857 - val_loss: 0.1490 - val_accuracy: 0.9688\n",
            "Epoch 29/100\n",
            "3/3 [==============================] - 0s 58ms/step - loss: 0.0663 - accuracy: 0.9571 - val_loss: 0.1940 - val_accuracy: 0.9375\n",
            "Epoch 30/100\n",
            "3/3 [==============================] - 0s 65ms/step - loss: 0.0969 - accuracy: 0.9714 - val_loss: 0.3653 - val_accuracy: 0.9062\n",
            "Epoch 31/100\n",
            "3/3 [==============================] - 0s 63ms/step - loss: 0.2763 - accuracy: 0.8857 - val_loss: 0.2094 - val_accuracy: 0.9375\n",
            "Epoch 32/100\n",
            "3/3 [==============================] - 0s 59ms/step - loss: 0.1092 - accuracy: 0.9429 - val_loss: 0.1306 - val_accuracy: 0.9688\n",
            "Epoch 33/100\n",
            "3/3 [==============================] - 0s 62ms/step - loss: 0.1074 - accuracy: 0.9571 - val_loss: 0.1490 - val_accuracy: 0.9062\n",
            "Epoch 34/100\n",
            "3/3 [==============================] - 0s 61ms/step - loss: 0.1027 - accuracy: 0.9571 - val_loss: 0.1298 - val_accuracy: 0.9688\n",
            "Epoch 35/100\n",
            "3/3 [==============================] - 0s 61ms/step - loss: 0.0804 - accuracy: 0.9714 - val_loss: 0.1318 - val_accuracy: 0.9688\n",
            "Epoch 36/100\n",
            "3/3 [==============================] - 0s 114ms/step - loss: 0.0491 - accuracy: 1.0000 - val_loss: 0.1406 - val_accuracy: 0.9375\n",
            "Epoch 37/100\n",
            "3/3 [==============================] - 0s 84ms/step - loss: 0.0831 - accuracy: 0.9857 - val_loss: 0.1337 - val_accuracy: 0.9688\n",
            "Epoch 38/100\n",
            "3/3 [==============================] - 0s 88ms/step - loss: 0.0622 - accuracy: 0.9857 - val_loss: 0.1331 - val_accuracy: 0.9688\n",
            "Epoch 39/100\n",
            "3/3 [==============================] - 0s 83ms/step - loss: 0.0495 - accuracy: 0.9857 - val_loss: 0.1400 - val_accuracy: 0.9375\n",
            "Epoch 40/100\n",
            "3/3 [==============================] - 0s 84ms/step - loss: 0.0601 - accuracy: 0.9857 - val_loss: 0.1462 - val_accuracy: 0.9375\n",
            "Epoch 41/100\n",
            "3/3 [==============================] - 0s 82ms/step - loss: 0.0616 - accuracy: 0.9857 - val_loss: 0.1487 - val_accuracy: 0.9375\n",
            "Epoch 42/100\n",
            "3/3 [==============================] - 0s 112ms/step - loss: 0.0486 - accuracy: 1.0000 - val_loss: 0.1398 - val_accuracy: 0.9688\n",
            "Epoch 43/100\n",
            "3/3 [==============================] - 0s 88ms/step - loss: 0.0808 - accuracy: 0.9429 - val_loss: 0.1395 - val_accuracy: 0.9688\n",
            "Epoch 44/100\n",
            "3/3 [==============================] - 0s 103ms/step - loss: 0.0826 - accuracy: 0.9714 - val_loss: 0.1384 - val_accuracy: 0.9688\n",
            "Epoch 45/100\n",
            "3/3 [==============================] - 0s 107ms/step - loss: 0.0597 - accuracy: 0.9714 - val_loss: 0.1548 - val_accuracy: 0.9375\n",
            "Epoch 46/100\n",
            "3/3 [==============================] - 0s 62ms/step - loss: 0.0669 - accuracy: 0.9714 - val_loss: 0.1730 - val_accuracy: 0.9375\n",
            "Epoch 47/100\n",
            "3/3 [==============================] - 0s 56ms/step - loss: 0.0683 - accuracy: 0.9714 - val_loss: 0.1675 - val_accuracy: 0.9375\n",
            "Epoch 48/100\n",
            "3/3 [==============================] - 0s 60ms/step - loss: 0.0761 - accuracy: 0.9571 - val_loss: 0.1515 - val_accuracy: 0.9688\n",
            "Epoch 49/100\n",
            "3/3 [==============================] - 0s 64ms/step - loss: 0.0596 - accuracy: 0.9857 - val_loss: 0.1477 - val_accuracy: 0.9688\n",
            "Epoch 50/100\n",
            "3/3 [==============================] - 0s 55ms/step - loss: 0.0526 - accuracy: 0.9857 - val_loss: 0.1655 - val_accuracy: 0.9375\n",
            "Epoch 51/100\n",
            "3/3 [==============================] - 0s 59ms/step - loss: 0.0881 - accuracy: 0.9571 - val_loss: 0.1405 - val_accuracy: 0.9688\n",
            "Epoch 52/100\n",
            "3/3 [==============================] - 0s 61ms/step - loss: 0.0545 - accuracy: 0.9714 - val_loss: 0.1356 - val_accuracy: 0.9688\n",
            "Epoch 53/100\n",
            "3/3 [==============================] - 0s 58ms/step - loss: 0.0668 - accuracy: 0.9714 - val_loss: 0.1385 - val_accuracy: 0.9688\n",
            "Epoch 54/100\n",
            "3/3 [==============================] - 0s 62ms/step - loss: 0.0680 - accuracy: 0.9714 - val_loss: 0.1499 - val_accuracy: 0.9688\n",
            "Epoch 55/100\n",
            "3/3 [==============================] - 0s 66ms/step - loss: 0.0739 - accuracy: 0.9857 - val_loss: 0.1764 - val_accuracy: 0.9375\n",
            "Epoch 56/100\n",
            "3/3 [==============================] - 0s 58ms/step - loss: 0.0573 - accuracy: 0.9714 - val_loss: 0.1948 - val_accuracy: 0.9375\n",
            "Epoch 57/100\n",
            "3/3 [==============================] - 0s 59ms/step - loss: 0.0522 - accuracy: 0.9857 - val_loss: 0.1893 - val_accuracy: 0.9375\n",
            "Epoch 58/100\n",
            "3/3 [==============================] - 0s 56ms/step - loss: 0.0840 - accuracy: 0.9714 - val_loss: 0.1501 - val_accuracy: 0.9688\n",
            "Epoch 59/100\n",
            "3/3 [==============================] - 0s 56ms/step - loss: 0.0493 - accuracy: 0.9857 - val_loss: 0.1464 - val_accuracy: 0.9688\n",
            "Epoch 60/100\n",
            "3/3 [==============================] - 0s 57ms/step - loss: 0.0346 - accuracy: 1.0000 - val_loss: 0.1492 - val_accuracy: 0.9688\n",
            "Epoch 61/100\n",
            "3/3 [==============================] - 0s 71ms/step - loss: 0.1193 - accuracy: 0.9714 - val_loss: 0.1529 - val_accuracy: 0.9688\n",
            "Epoch 62/100\n",
            "3/3 [==============================] - 0s 58ms/step - loss: 0.0513 - accuracy: 0.9714 - val_loss: 0.1866 - val_accuracy: 0.9375\n",
            "Epoch 63/100\n",
            "3/3 [==============================] - 0s 59ms/step - loss: 0.0846 - accuracy: 0.9571 - val_loss: 0.2143 - val_accuracy: 0.9375\n",
            "Epoch 64/100\n",
            "3/3 [==============================] - 0s 55ms/step - loss: 0.1333 - accuracy: 0.9429 - val_loss: 0.1616 - val_accuracy: 0.9375\n",
            "Epoch 65/100\n",
            "3/3 [==============================] - 0s 58ms/step - loss: 0.0462 - accuracy: 0.9857 - val_loss: 0.1367 - val_accuracy: 0.9688\n",
            "Epoch 66/100\n",
            "3/3 [==============================] - 0s 57ms/step - loss: 0.0633 - accuracy: 0.9429 - val_loss: 0.1641 - val_accuracy: 0.9062\n",
            "Epoch 67/100\n",
            "3/3 [==============================] - 0s 65ms/step - loss: 0.1139 - accuracy: 0.9429 - val_loss: 0.1483 - val_accuracy: 0.9062\n",
            "Epoch 68/100\n",
            "3/3 [==============================] - 0s 54ms/step - loss: 0.1200 - accuracy: 0.9571 - val_loss: 0.1324 - val_accuracy: 0.9688\n",
            "Epoch 69/100\n",
            "3/3 [==============================] - 0s 62ms/step - loss: 0.0570 - accuracy: 0.9857 - val_loss: 0.1422 - val_accuracy: 0.9688\n",
            "Epoch 70/100\n",
            "3/3 [==============================] - 0s 64ms/step - loss: 0.0610 - accuracy: 0.9857 - val_loss: 0.1557 - val_accuracy: 0.9375\n",
            "Epoch 71/100\n",
            "3/3 [==============================] - 0s 56ms/step - loss: 0.0696 - accuracy: 0.9714 - val_loss: 0.1612 - val_accuracy: 0.9375\n",
            "Epoch 72/100\n",
            "3/3 [==============================] - 0s 57ms/step - loss: 0.0811 - accuracy: 0.9571 - val_loss: 0.1518 - val_accuracy: 0.9688\n",
            "Epoch 73/100\n",
            "3/3 [==============================] - 0s 65ms/step - loss: 0.0594 - accuracy: 0.9714 - val_loss: 0.1515 - val_accuracy: 0.9688\n",
            "Epoch 74/100\n",
            "3/3 [==============================] - 0s 58ms/step - loss: 0.0775 - accuracy: 0.9571 - val_loss: 0.1586 - val_accuracy: 0.9688\n",
            "Epoch 75/100\n",
            "3/3 [==============================] - 0s 59ms/step - loss: 0.0544 - accuracy: 0.9714 - val_loss: 0.1608 - val_accuracy: 0.9688\n",
            "Epoch 76/100\n",
            "3/3 [==============================] - 0s 57ms/step - loss: 0.0753 - accuracy: 0.9429 - val_loss: 0.1610 - val_accuracy: 0.9688\n",
            "Epoch 77/100\n",
            "3/3 [==============================] - 0s 58ms/step - loss: 0.0577 - accuracy: 0.9571 - val_loss: 0.1546 - val_accuracy: 0.9688\n",
            "Epoch 78/100\n",
            "3/3 [==============================] - 0s 55ms/step - loss: 0.0381 - accuracy: 0.9857 - val_loss: 0.1548 - val_accuracy: 0.9688\n",
            "Epoch 79/100\n",
            "3/3 [==============================] - 0s 63ms/step - loss: 0.0437 - accuracy: 0.9857 - val_loss: 0.1634 - val_accuracy: 0.9688\n",
            "Epoch 80/100\n",
            "3/3 [==============================] - 0s 61ms/step - loss: 0.0474 - accuracy: 0.9714 - val_loss: 0.1741 - val_accuracy: 0.9375\n",
            "Epoch 81/100\n",
            "3/3 [==============================] - 0s 58ms/step - loss: 0.0509 - accuracy: 1.0000 - val_loss: 0.1758 - val_accuracy: 0.9375\n",
            "Epoch 82/100\n",
            "3/3 [==============================] - 0s 56ms/step - loss: 0.0868 - accuracy: 0.9429 - val_loss: 0.1741 - val_accuracy: 0.9375\n",
            "Epoch 83/100\n",
            "3/3 [==============================] - 0s 59ms/step - loss: 0.0569 - accuracy: 0.9714 - val_loss: 0.1769 - val_accuracy: 0.9375\n",
            "Epoch 84/100\n",
            "3/3 [==============================] - 0s 59ms/step - loss: 0.0655 - accuracy: 0.9714 - val_loss: 0.1878 - val_accuracy: 0.9375\n",
            "Epoch 85/100\n",
            "3/3 [==============================] - 0s 60ms/step - loss: 0.0805 - accuracy: 0.9714 - val_loss: 0.1839 - val_accuracy: 0.9375\n",
            "Epoch 86/100\n",
            "3/3 [==============================] - 0s 58ms/step - loss: 0.0514 - accuracy: 0.9857 - val_loss: 0.1722 - val_accuracy: 0.9688\n",
            "Epoch 87/100\n",
            "3/3 [==============================] - 0s 56ms/step - loss: 0.0860 - accuracy: 0.9714 - val_loss: 0.1672 - val_accuracy: 0.9688\n",
            "Epoch 88/100\n",
            "3/3 [==============================] - 0s 57ms/step - loss: 0.0580 - accuracy: 0.9714 - val_loss: 0.1793 - val_accuracy: 0.9375\n",
            "Epoch 89/100\n",
            "3/3 [==============================] - 0s 55ms/step - loss: 0.0453 - accuracy: 0.9857 - val_loss: 0.1835 - val_accuracy: 0.9375\n",
            "Epoch 90/100\n",
            "3/3 [==============================] - 0s 57ms/step - loss: 0.0607 - accuracy: 0.9714 - val_loss: 0.1790 - val_accuracy: 0.9375\n",
            "Epoch 91/100\n",
            "3/3 [==============================] - 0s 66ms/step - loss: 0.0362 - accuracy: 1.0000 - val_loss: 0.1726 - val_accuracy: 0.9375\n",
            "Epoch 92/100\n",
            "3/3 [==============================] - 0s 61ms/step - loss: 0.0809 - accuracy: 0.9571 - val_loss: 0.1664 - val_accuracy: 0.9688\n",
            "Epoch 93/100\n",
            "3/3 [==============================] - 0s 54ms/step - loss: 0.0386 - accuracy: 0.9857 - val_loss: 0.1635 - val_accuracy: 0.9688\n",
            "Epoch 94/100\n",
            "3/3 [==============================] - 0s 62ms/step - loss: 0.0578 - accuracy: 0.9857 - val_loss: 0.1624 - val_accuracy: 0.9688\n",
            "Epoch 95/100\n",
            "3/3 [==============================] - 0s 60ms/step - loss: 0.0276 - accuracy: 1.0000 - val_loss: 0.1637 - val_accuracy: 0.9688\n",
            "Epoch 96/100\n",
            "3/3 [==============================] - 0s 55ms/step - loss: 0.0317 - accuracy: 0.9857 - val_loss: 0.1669 - val_accuracy: 0.9688\n",
            "Epoch 97/100\n",
            "3/3 [==============================] - 0s 58ms/step - loss: 0.0494 - accuracy: 0.9571 - val_loss: 0.1732 - val_accuracy: 0.9375\n",
            "Epoch 98/100\n",
            "3/3 [==============================] - 0s 59ms/step - loss: 0.0543 - accuracy: 0.9714 - val_loss: 0.1866 - val_accuracy: 0.9375\n",
            "Epoch 99/100\n",
            "3/3 [==============================] - 0s 57ms/step - loss: 0.0439 - accuracy: 0.9857 - val_loss: 0.1772 - val_accuracy: 0.9375\n",
            "Epoch 100/100\n",
            "3/3 [==============================] - 0s 58ms/step - loss: 0.0646 - accuracy: 0.9857 - val_loss: 0.1842 - val_accuracy: 0.9375\n"
          ]
        },
        {
          "output_type": "display_data",
          "data": {
            "text/plain": [
              "<Figure size 640x480 with 1 Axes>"
            ],
            "image/png": "[encoded data removed]"
          },
          "metadata": {}
        }
      ]
    },
    {
      "cell_type": "markdown",
      "source": [
        "# Evaluating Model"
      ],
      "metadata": {
        "id": "XNWLCDkQunp9"
      }
    },
    {
      "cell_type": "code",
      "source": [
        "# menghitung nilai akurasi model terhadap data test\n",
        "predictions = model.predict(x_test)\n",
        "target = predictions.argmax(axis=1)\n",
        "print(classification_report(y_test, target, target_names=label_list, zero_division=1))"
      ],
      "metadata": {
        "id": "QkFkKBavusMu",
        "colab": {
          "base_uri": "https://localhost:8080/"
        },
        "outputId": "79f1543c-e046-4ca7-d4ef-54d090947785"
      },
      "execution_count": 14,
      "outputs": [
        {
          "output_type": "stream",
          "name": "stdout",
          "text": [
            "1/1 [==============================] - 0s 53ms/step\n",
            "              precision    recall  f1-score   support\n",
            "\n",
            "      Nangka       1.00      0.88      0.93        16\n",
            "  Daun Sirih       0.89      1.00      0.94        16\n",
            "\n",
            "    accuracy                           0.94        32\n",
            "   macro avg       0.94      0.94      0.94        32\n",
            "weighted avg       0.94      0.94      0.94        32\n",
            "\n"
          ]
        }
      ]
    }
  ]
}